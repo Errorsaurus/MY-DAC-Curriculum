{
 "cells": [
  {
   "cell_type": "markdown",
   "metadata": {},
   "source": [
    "Question 1"
   ]
  },
  {
   "cell_type": "code",
   "execution_count": 6,
   "metadata": {},
   "outputs": [
    {
     "name": "stdout",
     "output_type": "stream",
     "text": [
      "['apple', 'orange', 'banana', 'tomato']\n",
      "['orange', 'banana', 'tomato']\n"
     ]
    }
   ],
   "source": [
    "fruit_list = [\"apple\",\"orange\",\"banana\"]\n",
    "fruit_list.append(\"tomato\")\n",
    "print(fruit_list)\n",
    "fruit_list.remove(\"apple\")\n",
    "print(fruit_list)"
   ]
  },
  {
   "cell_type": "markdown",
   "metadata": {},
   "source": [
    "Question 2:"
   ]
  },
  {
   "cell_type": "code",
   "execution_count": 13,
   "metadata": {},
   "outputs": [
    {
     "name": "stdout",
     "output_type": "stream",
     "text": [
      "['physics', 'chemistry', 'english', 'math', 'biology', 'literature']\n",
      "6\n"
     ]
    }
   ],
   "source": [
    "subjects = (\"physics\",\"chemistry\",\"english\",\"math\",\"biology\")\n",
    "type(subjects)\n",
    "subjects_list = list(subjects)\n",
    "subjects_list.append(\"literature\")\n",
    "print(subjects_list)\n",
    "length_of_subjects_list = len(subjects_list)\n",
    "print(length_of_subjects_list)"
   ]
  },
  {
   "cell_type": "markdown",
   "metadata": {},
   "source": [
    "Question 3"
   ]
  },
  {
   "cell_type": "code",
   "execution_count": null,
   "metadata": {},
   "outputs": [],
   "source": []
  }
 ],
 "metadata": {
  "kernelspec": {
   "display_name": "Python 3",
   "language": "python",
   "name": "python3"
  },
  "language_info": {
   "codemirror_mode": {
    "name": "ipython",
    "version": 3
   },
   "file_extension": ".py",
   "mimetype": "text/x-python",
   "name": "python",
   "nbconvert_exporter": "python",
   "pygments_lexer": "ipython3",
   "version": "3.12.0"
  }
 },
 "nbformat": 4,
 "nbformat_minor": 2
}
